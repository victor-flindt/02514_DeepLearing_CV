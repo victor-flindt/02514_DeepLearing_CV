{
 "cells": [
  {
   "cell_type": "code",
   "execution_count": 1,
   "id": "f9ceaee0",
   "metadata": {},
   "outputs": [],
   "source": [
    "import torch"
   ]
  },
  {
   "cell_type": "code",
   "execution_count": 2,
   "id": "ca54a589",
   "metadata": {},
   "outputs": [],
   "source": [
    "from PIL import Image\n",
    "import torchvision.transforms as transforms"
   ]
  },
  {
   "cell_type": "code",
   "execution_count": 3,
   "id": "c0c496d2",
   "metadata": {},
   "outputs": [
    {
     "name": "stdout",
     "output_type": "stream",
     "text": [
      "cuda\n",
      "tensor([[[0.8392, 0.8471, 0.8549,  ..., 0.9098, 0.9098, 0.9020],\n",
      "         [0.8392, 0.8471, 0.8549,  ..., 0.9098, 0.9098, 0.9137],\n",
      "         [0.8392, 0.8471, 0.8549,  ..., 0.9137, 0.9098, 0.9216],\n",
      "         ...,\n",
      "         [0.7333, 0.7451, 0.7529,  ..., 0.8824, 0.8863, 0.8902],\n",
      "         [0.7255, 0.7333, 0.7451,  ..., 0.8863, 0.8902, 0.8863],\n",
      "         [0.7176, 0.7294, 0.7373,  ..., 0.8863, 0.8902, 0.8902]],\n",
      "\n",
      "        [[0.8157, 0.8235, 0.8314,  ..., 0.8706, 0.8706, 0.8627],\n",
      "         [0.8157, 0.8235, 0.8314,  ..., 0.8706, 0.8706, 0.8745],\n",
      "         [0.8157, 0.8235, 0.8314,  ..., 0.8745, 0.8706, 0.8706],\n",
      "         ...,\n",
      "         [0.6039, 0.6157, 0.6235,  ..., 0.8314, 0.8353, 0.8392],\n",
      "         [0.5961, 0.6039, 0.6157,  ..., 0.8353, 0.8392, 0.8353],\n",
      "         [0.5882, 0.6000, 0.6078,  ..., 0.8353, 0.8392, 0.8392]],\n",
      "\n",
      "        [[0.6824, 0.6902, 0.7059,  ..., 0.8353, 0.8353, 0.8235],\n",
      "         [0.6824, 0.6902, 0.7059,  ..., 0.8353, 0.8353, 0.8353],\n",
      "         [0.6824, 0.6902, 0.7059,  ..., 0.8353, 0.8314, 0.8353],\n",
      "         ...,\n",
      "         [0.4667, 0.4784, 0.4863,  ..., 0.7686, 0.7725, 0.7765],\n",
      "         [0.4667, 0.4745, 0.4863,  ..., 0.7725, 0.7765, 0.7725],\n",
      "         [0.4588, 0.4706, 0.4784,  ..., 0.7725, 0.7765, 0.7765]]])\n"
     ]
    }
   ],
   "source": [
    "# Read the image\n",
    "image = Image.open('Cat03.jpg')\n",
    "\n",
    "device = torch.device('cuda' if torch.cuda.is_available() else 'cpu')\n",
    "\n",
    "print(device)\n",
    "\n",
    "# Define a transform to convert the image to tensor\n",
    "transform = transforms.ToTensor()\n",
    "\n",
    "# Convert the image to PyTorch tensor\n",
    "tensor = transform(image)\n",
    "\n",
    "\n",
    "torch.save(tensor, 'tensor_file.pt')\n",
    "# print the converted image tensor\n",
    "print(tensor)"
   ]
  }
 ],
 "metadata": {
  "kernelspec": {
   "display_name": "Python 3",
   "language": "python",
   "name": "python3"
  },
  "language_info": {
   "codemirror_mode": {
    "name": "ipython",
    "version": 3
   },
   "file_extension": ".py",
   "mimetype": "text/x-python",
   "name": "python",
   "nbconvert_exporter": "python",
   "pygments_lexer": "ipython3",
   "version": "3.6.8"
  }
 },
 "nbformat": 4,
 "nbformat_minor": 5
}
